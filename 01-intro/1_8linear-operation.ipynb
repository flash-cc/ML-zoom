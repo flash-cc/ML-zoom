{
 "cells": [
  {
   "cell_type": "code",
   "execution_count": 1,
   "id": "26a15946-c698-447c-8668-54c7a2c023ea",
   "metadata": {},
   "outputs": [],
   "source": [
    "import numpy as np"
   ]
  },
  {
   "cell_type": "code",
   "execution_count": 2,
   "id": "2267bddc-7a70-4e32-8fb9-2161e1b5e9da",
   "metadata": {},
   "outputs": [],
   "source": [
    "def vector_multiplication(u,v):\n",
    "    assert u.shape[0] == v.shape[0]\n",
    "\n",
    "    result = 0.0\n",
    "    for i in range(u.shape[0]):\n",
    "        result = result + u[i]*v[i]\n",
    "\n",
    "    return result"
   ]
  },
  {
   "cell_type": "code",
   "execution_count": 3,
   "id": "1808080e-4e11-4e46-a552-18ab19083450",
   "metadata": {},
   "outputs": [],
   "source": [
    "u = np.array([1,2,3,5])"
   ]
  },
  {
   "cell_type": "code",
   "execution_count": 4,
   "id": "6496b396-1a68-4c4e-8efc-14de2bb50bd9",
   "metadata": {},
   "outputs": [],
   "source": [
    "v = np.array([2,3,4,6])"
   ]
  },
  {
   "cell_type": "code",
   "execution_count": 5,
   "id": "7986d49c-1df5-45b8-923b-eed09bf5eb57",
   "metadata": {},
   "outputs": [
    {
     "data": {
      "text/plain": [
       "np.float64(50.0)"
      ]
     },
     "execution_count": 5,
     "metadata": {},
     "output_type": "execute_result"
    }
   ],
   "source": [
    "vector_multiplication(u,v)"
   ]
  },
  {
   "cell_type": "code",
   "execution_count": 6,
   "id": "07c22909-bb27-4b56-ab30-294b431fdb1a",
   "metadata": {},
   "outputs": [
    {
     "data": {
      "text/plain": [
       "np.int64(50)"
      ]
     },
     "execution_count": 6,
     "metadata": {},
     "output_type": "execute_result"
    }
   ],
   "source": [
    "u.dot(v)"
   ]
  },
  {
   "cell_type": "markdown",
   "id": "40ea0001-d9e4-4a48-a714-a2a12c660b85",
   "metadata": {},
   "source": [
    "Mtrix-vector multiplication"
   ]
  },
  {
   "cell_type": "code",
   "execution_count": 7,
   "id": "ecd9d17b-c4ec-4088-9d69-0bf69b199b75",
   "metadata": {},
   "outputs": [],
   "source": [
    "U =np.array([\n",
    "    [2,4,5,6],\n",
    "    [1,2,1,2],\n",
    "    [3,1,2,1]\n",
    "])"
   ]
  },
  {
   "cell_type": "code",
   "execution_count": 33,
   "id": "13e039a5-f30a-48ed-bf14-d57f2ad0c818",
   "metadata": {},
   "outputs": [],
   "source": [
    "V = np.array([\n",
    "    [1,1,2],\n",
    "    [0,0.5,1],\n",
    "    [2,1,0],\n",
    "    [3,0,2]\n",
    "])"
   ]
  },
  {
   "cell_type": "code",
   "execution_count": 15,
   "id": "719c5941-86cb-4c5f-a0f3-fdd35e575d0b",
   "metadata": {},
   "outputs": [
    {
     "data": {
      "text/plain": [
       "4"
      ]
     },
     "execution_count": 15,
     "metadata": {},
     "output_type": "execute_result"
    }
   ],
   "source": [
    "U.shape[1]"
   ]
  },
  {
   "cell_type": "code",
   "execution_count": 16,
   "id": "f79f19b6-7eda-4df4-b50a-acccabfe70ee",
   "metadata": {},
   "outputs": [],
   "source": [
    "def matrix_vector_multiplication(u,v):\n",
    "    assert u.shape[1] == v.shape[0]\n",
    "\n",
    "    num_rows = u.shape[0]\n",
    "\n",
    "    result = np.zeros(num_rows)\n",
    "\n",
    "    for i in range(num_rows):\n",
    "       result[i] = vector_multiplication(u[i],v)\n",
    "    return result"
   ]
  },
  {
   "cell_type": "code",
   "execution_count": 17,
   "id": "3da7f2ae-4b06-48e1-8c92-57ba8fa02111",
   "metadata": {},
   "outputs": [
    {
     "data": {
      "text/plain": [
       "array([72., 24., 23.])"
      ]
     },
     "execution_count": 17,
     "metadata": {},
     "output_type": "execute_result"
    }
   ],
   "source": [
    "matrix_vector_multiplication(U,v)"
   ]
  },
  {
   "cell_type": "code",
   "execution_count": 18,
   "id": "93482f45-834c-4927-b8eb-e28210b2c3df",
   "metadata": {},
   "outputs": [
    {
     "data": {
      "text/plain": [
       "array([72, 24, 23])"
      ]
     },
     "execution_count": 18,
     "metadata": {},
     "output_type": "execute_result"
    }
   ],
   "source": [
    "U.dot(v)"
   ]
  },
  {
   "cell_type": "code",
   "execution_count": 31,
   "id": "a443333a-5fea-4cf4-bdb1-8223a4cf41fe",
   "metadata": {},
   "outputs": [],
   "source": [
    "def matri_matrix_multiplication(U,V):\n",
    "    assert U.shape[1] == V.shape[0]\n",
    "\n",
    "    num_rows = U.shape[0]\n",
    "    num_cols = V.shape[1]\n",
    "    result = np.zeros((num_rows, num_cols))\n",
    "\n",
    "    for i in range(num_cols):\n",
    "        result[:,i] = matrix_vector_multiplication(U,V[:,i])\n",
    "        \n",
    "    return result"
   ]
  },
  {
   "cell_type": "code",
   "execution_count": 35,
   "id": "571b0b84-41c6-42fc-8c64-834c6b35d26b",
   "metadata": {},
   "outputs": [
    {
     "data": {
      "text/plain": [
       "array([[30. ,  9. , 10. ],\n",
       "       [ 9. ,  3. ,  5.5],\n",
       "       [20. ,  8. ,  9. ]])"
      ]
     },
     "execution_count": 35,
     "metadata": {},
     "output_type": "execute_result"
    }
   ],
   "source": [
    "matri_matrix_multiplication(U,V)"
   ]
  },
  {
   "cell_type": "markdown",
   "id": "9f79ca33",
   "metadata": {},
   "source": []
  }
 ],
 "metadata": {
  "kernelspec": {
   "display_name": "Python 3 (ipykernel)",
   "language": "python",
   "name": "python3"
  },
  "language_info": {
   "codemirror_mode": {
    "name": "ipython",
    "version": 3
   },
   "file_extension": ".py",
   "mimetype": "text/x-python",
   "name": "python",
   "nbconvert_exporter": "python",
   "pygments_lexer": "ipython3",
   "version": "3.12.1"
  }
 },
 "nbformat": 4,
 "nbformat_minor": 5
}
